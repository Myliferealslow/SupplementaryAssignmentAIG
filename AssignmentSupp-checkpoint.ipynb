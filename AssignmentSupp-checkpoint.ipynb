{
 "cells": [
  {
   "cell_type": "code",
   "execution_count": 1,
   "metadata": {},
   "outputs": [],
   "source": [
    "import Pkg"
   ]
  },
  {
   "cell_type": "code",
   "execution_count": 4,
   "metadata": {},
   "outputs": [
    {
     "name": "stderr",
     "output_type": "stream",
     "text": [
      "\u001b[32m\u001b[1m  Resolving\u001b[22m\u001b[39m package versions...\n",
      "\u001b[32m\u001b[1m   Updating\u001b[22m\u001b[39m `C:\\Users\\Tobias Mika\\.julia\\environments\\v1.4\\Project.toml`\n",
      "\u001b[90m [no changes]\u001b[39m\n",
      "\u001b[32m\u001b[1m   Updating\u001b[22m\u001b[39m `C:\\Users\\Tobias Mika\\.julia\\environments\\v1.4\\Manifest.toml`\n",
      "\u001b[90m [no changes]\u001b[39m\n"
     ]
    }
   ],
   "source": [
    "Pkg.add(\"DataStructures\")"
   ]
  },
  {
   "cell_type": "code",
   "execution_count": 5,
   "metadata": {},
   "outputs": [
    {
     "data": {
      "text/plain": [
       "translate_opposite (generic function with 1 method)"
      ]
     },
     "execution_count": 5,
     "metadata": {},
     "output_type": "execute_result"
    }
   ],
   "source": [
    "compliments = Dict('A' => '1', 'B' => '2', 'C' => '3', 'D' => '4')\n",
    "compliments_op = Dict('1' => 'A', '2' => 'B', '3' => 'C', '4' => 'D')\n",
    "\n",
    "function translate(c)\n",
    "    compliments[c]\n",
    "end\n",
    "function translate_opposite(c)\n",
    "    compliments_op[c]\n",
    "end"
   ]
  },
  {
   "cell_type": "code",
   "execution_count": 6,
   "metadata": {},
   "outputs": [],
   "source": [
    "using DataStructures"
   ]
  },
  {
   "cell_type": "code",
   "execution_count": 7,
   "metadata": {},
   "outputs": [
    {
     "data": {
      "text/plain": [
       "goalStackPlanning (generic function with 1 method)"
      ]
     },
     "execution_count": 7,
     "metadata": {},
     "output_type": "execute_result"
    }
   ],
   "source": [
    "function goalStackPlanning(state, goal_state)\n",
    "\tactions_to_take=[]     \n",
    "\tstack = Stack{Any}()\t\n",
    "    new=deepcopy(goal_state)\n",
    "\tpush!(stack, new)\n",
    "    cur_state=deepcopy(state)\n",
    "\tp_cond = fill(0, (num_blocks*num_blocks+3*num_blocks+1))  \n",
    "    \n",
    "\tii = num_blocks*num_blocks+3*num_blocks+1\n",
    "    for i in 1:ii\n",
    "\t\tif(new[i]==1)\n",
    "\t\t\tpush!(stack, i)\n",
    "        end\t\t\t\n",
    "    end\n",
    "\trou = 0\n",
    "    while !isempty(stack)\n",
    "\t\tele=pop!(stack)\n",
    "\t\trou = rou + 1\n",
    "\t\ttypeof_ = string(typeof(ele))\n",
    "\n",
    "\t\tif(typeof_ == \"Array{Int64,1}\")\n",
    "            passed=1\n",
    "            aa = num_blocks*num_blocks+3*num_blocks+1\n",
    "\t\t\tfor i in 1:aa\n",
    "                if(ele[i]==1) & (cur_state[i]==0)\n",
    "                    passed=0\n",
    "                    break\n",
    "\t\t\t\tend\n",
    "            end\n",
    "            if(passed==0)                                  \n",
    "                push!(stack, ele)\n",
    "                bb = num_blocks*num_blocks+3*num_blocks+1\n",
    "\t\t\t\tfor i in 1:bb\n",
    "                    if(ele[i]==1)\n",
    "                        push!(stack, i)\n",
    "\t\t\t\t\tend\n",
    "\t\t\t\tend\n",
    "\t\t\tend\n",
    "\t\telseif(typeof_ == \"Int64\" )\n",
    "            if(cur_state[ele]==0)\n",
    "                act = []\n",
    "                ano = ele-1\n",
    "\t\t\t\tif(ano<num_blocks*num_blocks) \n",
    "                    a=floor(Int8,ano/num_blocks)\n",
    "                    b=floor(Int8,ano%num_blocks)\n",
    "                    act = string(\"stack \", string(a+1), \" \", string(b+1))\n",
    "                    push!(stack, act)\n",
    "                    precond = deepcopy(p_cond)\n",
    "                    precond[num_blocks*num_blocks+num_blocks+b+1]=1\n",
    "\t\t\t\t\tprecond[num_blocks*num_blocks+2*num_blocks+a+1]=1\n",
    "                    push!(stack, precond)\n",
    "                    push!(stack, num_blocks*num_blocks+num_blocks+b+1)\n",
    "                    push!(stack, num_blocks*num_blocks+2*num_blocks+a+1)\n",
    "\t\t\t\t\t\n",
    "                elseif(ano<num_blocks*num_blocks+num_blocks)\n",
    "\t\t\t\t\ta = ano-(num_blocks*num_blocks)\n",
    "\t\t\t\t\tact = string(\"release \", string(a+1))\n",
    "                    push!(stack, act)\n",
    "                    precond = deepcopy(p_cond)\n",
    "                    precond[num_blocks*num_blocks+2*num_blocks+a+1]=1\n",
    "                    push!(stack, precond)\n",
    "                    push!(stack, num_blocks*num_blocks+2*num_blocks+a+1)\n",
    "\t\t\t\t\t\n",
    "                elseif(ano<num_blocks*num_blocks+2*num_blocks)\n",
    "\t\t\t\t\tholdblock=0\n",
    "\t\t\t\t\tb=ano-(num_blocks*num_blocks+num_blocks)\n",
    "                    \n",
    "                    if(cur_state[num_blocks*num_blocks+2*num_blocks+b+1]==1)#make changes\n",
    "                        holdblock=1\n",
    "\t\t\t\t\tend\n",
    "\t\t\t\t\t\n",
    "                    if(holdblock==1)\n",
    "                        a=ano-(num_blocks*num_blocks+num_blocks)\n",
    "                        # Release block only\n",
    "\t\t\t\t\t\tact = string(\"release \", string(a+1))\n",
    "                        push!(stack, act)\n",
    "                        precond = deepcopy(p_cond)\n",
    "                        precond[num_blocks*num_blocks+2*num_blocks+a+1]=1\n",
    "\t\t\t\t\t\tpush!(stack, precond)\n",
    "                        push!(stack, num_blocks*num_blocks+2*num_blocks+a+1)\n",
    "                    else\n",
    "                        b=ano-(num_blocks*num_blocks+num_blocks)\n",
    "\t\t\t\t\t\ta=-1\n",
    "                        for i in 0:num_blocks\n",
    "\t\t\t\t\t\t\tif(cur_state[i*num_blocks+b+1]==1)\n",
    "                                a=i\n",
    "                                break;\n",
    "\t\t\t\t\t\t\tend\n",
    "\t\t\t\t\t\tend\n",
    "                        if(a!=-1)\n",
    "\t\t\t\t\t\t\tact = string(\"unstack \", string(a+1), \" \", string(b+1))\n",
    "                            push!(stack, act)\n",
    "                            precond = deepcopy(p_cond)\n",
    "\t\t\t\t\t\t\tprecond[num_blocks*a+b+1]=1\n",
    "\t\t\t\t\t\t\tprecond[num_blocks*num_blocks+3*num_blocks+1]=1\t\t\t\t\n",
    "                            precond[num_blocks*num_blocks+num_blocks+a+1]=1\n",
    "\t\t\t\t\t\t\tpush!(stack, precond)\n",
    "                            push!(stack, num_blocks*num_blocks+num_blocks+a+1)\n",
    "                            push!(stack, num_blocks*num_blocks+3*num_blocks+1)\n",
    "                            push!(stack, num_blocks*a+b+1)\n",
    "\t\t\t\t\t\tend\n",
    "\t\t\t\t\tend\n",
    "                elseif(ano<num_blocks*num_blocks+3*num_blocks) #If predicate is hold(x), selecting the relevant action to push on the stack\n",
    "                    a = ano - (num_blocks*num_blocks+2*num_blocks)\n",
    "\t\t\t\t\tontable = 0\n",
    "\t\t\t\t\tif(cur_state[num_blocks*num_blocks+a+1]==1) #made changes\n",
    "                        ontable = 1\n",
    "\t\t\t\t\tend\n",
    "\t\t\t\t\t\n",
    "                    if(ontable == 1)\n",
    "                        act = string(\"pick \", string(a+1))\n",
    "                        push!(stack, act)\n",
    "                        precond = deepcopy(p_cond)\n",
    "                        precond[num_blocks*num_blocks+a+1] = 1\n",
    "                        precond[num_blocks*num_blocks+num_blocks+a+1] = 1\n",
    "                        precond[num_blocks*num_blocks+3*num_blocks+1] = 1\n",
    "                        push!(stack, precond)\n",
    "                        push!(stack, num_blocks*num_blocks+3*num_blocks+1)\n",
    "                        push!(stack, num_blocks*num_blocks+num_blocks+a+1)\n",
    "                        push!(stack, num_blocks*num_blocks+a+1)\n",
    "                    else\n",
    "\t\t\t\t\t\tb = -1\n",
    "                        b1 = a*num_blocks\n",
    "\t\t\t\t\t\tb2 = (a+1)*num_blocks\n",
    "\t\t\t\t\t\tfor i in b1:b2\n",
    "                            if(cur_state[i]==1)\n",
    "                                b=i\n",
    "                                break\n",
    "\t\t\t\t\t\t\tend\n",
    "\t\t\t\t\t\tend\n",
    "\t\t\t\t\t\t\n",
    "                        if(b != -1)\n",
    "                            b=b-a*num_blocks\n",
    "                            act = string(\"unstack \", string(a+1), \" \", string(b))\n",
    "                            push!(stack, act)\n",
    "                            precond = deepcopy(p_cond)\n",
    "\t\t\t\t\t\t\tprecond[num_blocks*a+b]=1\n",
    "                            precond[num_blocks*num_blocks+3*num_blocks+1]=1\n",
    "                            precond[num_blocks*num_blocks+num_blocks+a+1]=1\n",
    "                            push!(stack, precond)\n",
    "\t\t\t\t\t\t\tpush!(stack, num_blocks*num_blocks+num_blocks+a+1)\n",
    "                            push!(stack, num_blocks*num_blocks+3*num_blocks+1)\n",
    "                            push!(stack, num_blocks*a+b)\n",
    "                            s\n",
    "\t\t\t\t\t\tend\n",
    "\t\t\t\t\tend\n",
    "                else\n",
    "                    a=-1\n",
    "                    r1 = num_blocks*num_blocks+2*num_blocks\n",
    "\t\t\t\t\tr2 = num_blocks*num_blocks+3*num_blocks\n",
    "\t\t\t\t\tfor i in r1:r2\n",
    "                        if(cur_state[i] == 1)\n",
    "                            a=i-num_blocks*num_blocks-2*num_blocks\n",
    "                            break\n",
    "\t\t\t\t\t\tend\n",
    "\t\t\t\t\tend\n",
    "\t\t\t\t\tif(a!=-1)\n",
    "\t\t\t\t\t\tact = string(\"release \", string(a))\n",
    "                        push!(stack, act)\n",
    "                        precond = deepcopy(p_cond)\n",
    "                        precond[num_blocks*num_blocks+2*num_blocks+a]=1\n",
    "                        push!(stack, precond)\n",
    "                        push!(stack, num_blocks*num_blocks+2*num_blocks+a)\n",
    "\t\t\t\t\tend\n",
    "                end\n",
    "            end\n",
    "        elseif(typeof_ == \"String\")            \n",
    "            ele_=split(ele, \"_\")\n",
    "            elements=split(ele, \" \")\n",
    "\t\t\tif(elements[1]==\"pick\")\n",
    "\t\t\t\tnum = parse(Int64, elements[2])\n",
    "                cur_state[num_blocks*num_blocks+num-1+1]=0                  # Not ontable\n",
    "                cur_state[num_blocks*num_blocks+num_blocks+num-1+1]=0       # Not Clear\n",
    "                cur_state[num_blocks*num_blocks+2*num_blocks+num-1+1]=1     # Hold Block\n",
    "                cur_state[num_blocks*num_blocks+3*num_blocks+1]=0           # Not empty\n",
    "                ele_new = string(elements[1], \" \", map(translate_opposite, elements[2]))\n",
    "                append!(actions_to_take, ele_new)\n",
    "                println(\"STEP : \", ele_new)\n",
    "            elseif(elements[1]==\"unstack\")\n",
    "\t\t\t\tnum1 = parse(Int64, elements[2])\n",
    "\t\t\t\tnum2 = parse(Int64, elements[3])\n",
    "                cur_state[num_blocks*num_blocks+2*num_blocks+num1-1+1]=1     # Hold(A)\n",
    "                cur_state[num_blocks*num_blocks+num_blocks+num2-1+1]=1       # Clear(B)\n",
    "                cur_state[num_blocks*(num1-1)+num2-1+1]=0                    # not on(A,B)\n",
    "                cur_state[num_blocks*num_blocks+3*num_blocks+1]=0            # not empty\n",
    "                cur_state[num_blocks*num_blocks+num_blocks+num1-1+1]=0       # Not Clear(A)\n",
    "                ele_new = string(elements[1], \" \", map(translate_opposite, elements[2]), \" \", map(translate_opposite, elements[3]))\n",
    "                append!(actions_to_take, ele_new)\n",
    "                println(\"STEP : \", ele_new)\n",
    "            elseif(elements[1]==\"release\")\n",
    "\t\t\t\tnum = parse(Int64, elements[2])\n",
    "                cur_state[num_blocks*num_blocks+num-1+1]=1                  # ontable\n",
    "                cur_state[num_blocks*num_blocks+num_blocks+num-1+1]=1       # Clear\n",
    "                cur_state[num_blocks*num_blocks+2*num_blocks+num-1+1]=0     # Not Hold Block\n",
    "                cur_state[num_blocks*num_blocks+3*num_blocks+1]=1           # empty\n",
    "                ele_new = string(elements[1], \" \", map(translate_opposite, elements[2]))\n",
    "                append!(actions_to_take, ele_new)\n",
    "                println(\"STEP : \", ele_new)\n",
    "            elseif(elements[1]==\"stack\")\n",
    "\t\t\t\tnum1 = parse(Int64, elements[2])\n",
    "\t\t\t\tnum2 = parse(Int64, elements[3])\n",
    "                cur_state[num_blocks*num_blocks+2*num_blocks+num1-1+1]=0     # Not Hold(A)\n",
    "                cur_state[num_blocks*num_blocks+num_blocks+num2-1+1]=0       # Not Clear(B)\n",
    "                cur_state[num_blocks*(num1-1)+num2-1+1]=1                    # on(A,B)\n",
    "                cur_state[num_blocks*num_blocks+3*num_blocks+1]=1            # empty\n",
    "                cur_state[num_blocks*num_blocks+num_blocks+num1-1+1]=1       # Clear(A)\n",
    "                ele_new = string(elements[1], \" \", map(translate_opposite, elements[2]), \" \", map(translate_opposite, elements[3]))\n",
    "                append!(actions_to_take, ele_new)\n",
    "                println(\"STEP : \", ele_new)\n",
    "\t\t\tend\n",
    "\t\tend\n",
    "\tend\n",
    "    return actions_to_take\n",
    "end"
   ]
  },
  {
   "cell_type": "code",
   "execution_count": 8,
   "metadata": {},
   "outputs": [
    {
     "name": "stdout",
     "output_type": "stream",
     "text": [
      "NUMBER OF BLOCKS : 4\n",
      "INITIAL STATE    : ontable_A ontable_B clear_B clear_D on_C_A on_D_C empty\n",
      "GOAL STATE       : ontable_C clear_B on_D_C on_A_D on_B_A empty\n"
     ]
    }
   ],
   "source": [
    "file = readlines(\"input.txt\")\n",
    "\n",
    "num_blocks = parse(Int64, file[1])\n",
    "initial_state = file[2]\n",
    "goal_state = file[3]\n",
    "\n",
    "println(\"NUMBER OF BLOCKS : \", num_blocks)\n",
    "println(\"INITIAL STATE    : \", initial_state)\n",
    "println(\"GOAL STATE       : \", goal_state)"
   ]
  },
  {
   "cell_type": "code",
   "execution_count": 9,
   "metadata": {},
   "outputs": [
    {
     "data": {
      "text/plain": [
       "0"
      ]
     },
     "execution_count": 9,
     "metadata": {},
     "output_type": "execute_result"
    }
   ],
   "source": [
    "s = []\n",
    "g = []\n",
    "num_nodes_expanded = 0"
   ]
  },
  {
   "cell_type": "code",
   "execution_count": 10,
   "metadata": {},
   "outputs": [
    {
     "data": {
      "text/plain": [
       "29-element Array{Int64,1}:\n",
       " 0\n",
       " 0\n",
       " 0\n",
       " 0\n",
       " 0\n",
       " 0\n",
       " 0\n",
       " 0\n",
       " 0\n",
       " 0\n",
       " 0\n",
       " 0\n",
       " 0\n",
       " ⋮\n",
       " 0\n",
       " 0\n",
       " 0\n",
       " 0\n",
       " 0\n",
       " 0\n",
       " 0\n",
       " 0\n",
       " 0\n",
       " 0\n",
       " 0\n",
       " 0"
      ]
     },
     "execution_count": 10,
     "metadata": {},
     "output_type": "execute_result"
    }
   ],
   "source": [
    "s_list = split(initial_state, \" \")\n",
    "g_list = split(goal_state, \" \")\n",
    "\n",
    "\n",
    "state_size = num_blocks^2+3*num_blocks+1\n",
    "\n",
    "s = fill(0, state_size)                      \n",
    "g = fill(0, state_size) "
   ]
  },
  {
   "cell_type": "code",
   "execution_count": 11,
   "metadata": {},
   "outputs": [],
   "source": [
    "for value in s_list\n",
    "    ele=value    \n",
    "\tele=split(ele, \"_\")\n",
    "\t\n",
    "    if(ele[1]==\"on\")\n",
    "\t\tnum1_ = map(translate, ele[2])\n",
    "\t\tnum2_ = map(translate, ele[3])\n",
    "\t\tnum1= parse(Int64, num1_) -1\n",
    "\t\tnum2= parse(Int64, num2_) \n",
    "        s[num1*num_blocks+num2]=1\n",
    "    elseif(ele[1]==\"ontable\")\n",
    "\t\tnum1_ = map(translate, ele[2])\n",
    "\t\tnum1 = parse(Int64, num1_)\n",
    "        s[num_blocks*num_blocks+num1]=1\n",
    "    elseif(ele[1]==\"clear\")\n",
    "\t\tnum1_ = map(translate, ele[2])\n",
    "\t\tnum1= parse(Int64, num1_)\n",
    "        s[num_blocks*num_blocks+num_blocks+num1]=1\t\t\n",
    "    elseif(ele[1]==\"hold\")\n",
    "\t\tnum1_ = map(translate, ele[2])\n",
    "\t\tnum1= parse(Int64, num1_) -1\n",
    "        s[num_blocks*num_blocks+2*num_blocks+num1]=1\n",
    "    elseif(ele[1]==\"empty\")\n",
    "        s[num_blocks*num_blocks+3*num_blocks+1]=1\n",
    "\tend\n",
    "end"
   ]
  },
  {
   "cell_type": "code",
   "execution_count": 19,
   "metadata": {},
   "outputs": [],
   "source": [
    "for value in g_list\n",
    "    ele=value\n",
    "    ele=split(ele, \"_\")\n",
    "\t\n",
    "    if(ele[1]==\"on\")\n",
    "\t\tnum1_ = map(translate, ele[2])\n",
    "\t\tnum2_ = map(translate, ele[3])\n",
    "\t\tnum1= parse(Int64, num1_) -1\n",
    "\t\tnum2= parse(Int64, num2_) \n",
    "        g[num1*num_blocks+num2]=1\n",
    "    elseif(ele[1]==\"ontable\")\n",
    "\t\tnum1_ = map(translate, ele[2])\n",
    "\t\tnum1 = parse(Int64, num1_)\n",
    "        g[num_blocks*num_blocks+num1]=1\n",
    "    elseif(ele[1]==\"clear\")\n",
    "\t\tnum1_ = map(translate, ele[2])\n",
    "\t\tnum1= parse(Int64, num1_)\n",
    "        g[num_blocks*num_blocks+num_blocks+num1]=1\t\t\n",
    "    elseif(ele[1]==\"hold\")\n",
    "\t\tnum1_ = map(translate, ele[2])\n",
    "\t\tnum1= parse(Int64, num1_) -1\n",
    "        g[num_blocks*num_blocks+2*num_blocks+num1]=1\n",
    "    elseif(ele[1]==\"empty\")\n",
    "        g[num_blocks*num_blocks+3*num_blocks+1]=1\n",
    "\tend\n",
    "end"
   ]
  },
  {
   "cell_type": "code",
   "execution_count": 20,
   "metadata": {},
   "outputs": [
    {
     "name": "stdout",
     "output_type": "stream",
     "text": [
      "STEP : unstack D C\n",
      "STEP : release D\n",
      "STEP : unstack C A\n",
      "STEP : release C\n",
      "STEP : pick D\n",
      "STEP : stack D C\n",
      "STEP : pick B\n",
      "STEP : stack B A\n",
      "STEP : unstack B A\n"
     ]
    },
    {
     "ename": "KeyError",
     "evalue": "KeyError: key '0' not found",
     "output_type": "error",
     "traceback": [
      "KeyError: key '0' not found",
      "",
      "Stacktrace:",
      " [1] getindex(::Dict{Char,Char}, ::Char) at .\\dict.jl:477",
      " [2] translate_opposite(::Char) at .\\In[5]:8",
      " [3] map(::typeof(translate_opposite), ::SubString{String}) at .\\strings\\basic.jl:574",
      " [4] goalStackPlanning(::Array{Int64,1}, ::Array{Int64,1}) at .\\In[7]:196",
      " [5] top-level scope at In[20]:1"
     ]
    }
   ],
   "source": [
    "actions = goalStackPlanning(s, g)"
   ]
  },
  {
   "cell_type": "code",
   "execution_count": 16,
   "metadata": {},
   "outputs": [
    {
     "name": "stdout",
     "output_type": "stream",
     "text": [
      "Goal Stack Planning Algorithm Used\n",
      "Solution                 : Any[]\n"
     ]
    }
   ],
   "source": [
    "println(\"Goal Stack Planning Algorithm Used\")\n",
    "println(\"Solution                 : \", actions)"
   ]
  },
  {
   "cell_type": "code",
   "execution_count": null,
   "metadata": {},
   "outputs": [],
   "source": []
  },
  {
   "cell_type": "code",
   "execution_count": null,
   "metadata": {},
   "outputs": [],
   "source": []
  }
 ],
 "metadata": {
  "kernelspec": {
   "display_name": "Julia 1.4.2",
   "language": "julia",
   "name": "julia-1.4"
  },
  "language_info": {
   "file_extension": ".jl",
   "mimetype": "application/julia",
   "name": "julia",
   "version": "1.4.2"
  }
 },
 "nbformat": 4,
 "nbformat_minor": 2
}
